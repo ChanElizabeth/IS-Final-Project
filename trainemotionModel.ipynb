{
 "cells": [
  {
   "cell_type": "code",
   "execution_count": 1,
   "metadata": {},
   "outputs": [
    {
     "name": "stderr",
     "output_type": "stream",
     "text": [
      "Using TensorFlow backend.\n"
     ]
    }
   ],
   "source": [
    "import numpy as np\n",
    "import matplotlib.pyplot as plt\n",
    "import os\n",
    "import cv2\n",
    "from keras.callbacks import ModelCheckpoint, EarlyStopping\n",
    "import keras\n",
    "from keras.utils import np_utils\n",
    "# import sequential model and all the required layers\n",
    "from keras.models import Sequential\n",
    "from keras.layers import Conv2D,MaxPooling2D,Dense,Flatten,Dropout"
   ]
  },
  {
   "cell_type": "code",
   "execution_count": 2,
   "metadata": {},
   "outputs": [],
   "source": [
    "DATADIR = 'train' #dataset file\n",
    "CATEGORIES = [\"Angry\", \"Happy\", \"Neutral\", \"Sad\", \"Surprise\"] #The emotions to be classify\n",
    "IMG_SIZE = 48\n",
    "batch_size = 100\n",
    "epochs = 8"
   ]
  },
  {
   "cell_type": "code",
   "execution_count": 3,
   "metadata": {},
   "outputs": [],
   "source": [
    "training_data = []\n",
    "labels = []\n",
    "\n",
    "def create_training_data():\n",
    "    for category in CATEGORIES:  # do \n",
    "        path = os.path.join(DATADIR,category)  # create path \n",
    "        class_num = CATEGORIES.index(category)  # get the classification  (0, 1, 2, 3, or 4)\n",
    "        for img in os.listdir(path):  # iterate over each image \n",
    "            try:\n",
    "                img_array = cv2.imread(os.path.join(path,img) ,cv2.IMREAD_GRAYSCALE)  # convert to array\n",
    "                new_array = cv2.resize(img_array, (IMG_SIZE, IMG_SIZE))  # resize to normalize data size\n",
    "                training_data.append(new_array)  # add this to our training_data\n",
    "                labels.append(class_num)\n",
    "            except Exception as e:  # in the interest in keeping the output clean...\n",
    "                pass\n",
    "\n",
    "\n",
    "create_training_data()"
   ]
  },
  {
   "cell_type": "code",
   "execution_count": 4,
   "metadata": {},
   "outputs": [],
   "source": [
    "emotions=np.array(training_data)\n",
    "labels=np.array(labels)"
   ]
  },
  {
   "cell_type": "code",
   "execution_count": 5,
   "metadata": {},
   "outputs": [],
   "source": [
    "np.save(\"emotions\",emotions)\n",
    "np.save(\"labels\",labels)"
   ]
  },
  {
   "cell_type": "code",
   "execution_count": 6,
   "metadata": {},
   "outputs": [],
   "source": [
    "emotions=np.load(\"emotions.npy\")\n",
    "labels=np.load(\"labels.npy\")"
   ]
  },
  {
   "cell_type": "code",
   "execution_count": 7,
   "metadata": {},
   "outputs": [],
   "source": [
    "s=np.arange(emotions.shape[0])\n",
    "np.random.shuffle(s)\n",
    "emotions=emotions[s]\n",
    "labels=labels[s]"
   ]
  },
  {
   "cell_type": "code",
   "execution_count": 8,
   "metadata": {},
   "outputs": [],
   "source": [
    "num_classes=len(np.unique(labels))\n",
    "data_length=len(emotions)"
   ]
  },
  {
   "cell_type": "code",
   "execution_count": 9,
   "metadata": {},
   "outputs": [],
   "source": [
    "(x_train,x_test)=emotions[(int)(0.1*data_length):],emotions[:(int)(0.1*data_length)]\n",
    "x_train = x_train.astype('float32')/255\n",
    "x_test = x_test.astype('float32')/255\n",
    "train_length=len(x_train)\n",
    "test_length=len(x_test)"
   ]
  },
  {
   "cell_type": "code",
   "execution_count": 10,
   "metadata": {},
   "outputs": [],
   "source": [
    "(y_train,y_test)=labels[(int)(0.1*data_length):],labels[:(int)(0.1*data_length)]"
   ]
  },
  {
   "cell_type": "code",
   "execution_count": 11,
   "metadata": {},
   "outputs": [],
   "source": [
    "x_train = np.array(x_train).reshape(-1, IMG_SIZE, IMG_SIZE, 1)\n",
    "x_test = np.array(x_test).reshape(-1, IMG_SIZE, IMG_SIZE, 1)"
   ]
  },
  {
   "cell_type": "code",
   "execution_count": 12,
   "metadata": {},
   "outputs": [],
   "source": [
    "#One hot encoding\n",
    "y_train=keras.utils.to_categorical(y_train,num_classes)\n",
    "y_test=keras.utils.to_categorical(y_test,num_classes)"
   ]
  },
  {
   "cell_type": "code",
   "execution_count": 13,
   "metadata": {},
   "outputs": [
    {
     "name": "stdout",
     "output_type": "stream",
     "text": [
      "Model: \"sequential_1\"\n",
      "_________________________________________________________________\n",
      "Layer (type)                 Output Shape              Param #   \n",
      "=================================================================\n",
      "conv2d_1 (Conv2D)            (None, 48, 48, 16)        160       \n",
      "_________________________________________________________________\n",
      "conv2d_2 (Conv2D)            (None, 48, 48, 16)        2320      \n",
      "_________________________________________________________________\n",
      "max_pooling2d_1 (MaxPooling2 (None, 24, 24, 16)        0         \n",
      "_________________________________________________________________\n",
      "conv2d_3 (Conv2D)            (None, 24, 24, 32)        4640      \n",
      "_________________________________________________________________\n",
      "conv2d_4 (Conv2D)            (None, 24, 24, 32)        9248      \n",
      "_________________________________________________________________\n",
      "max_pooling2d_2 (MaxPooling2 (None, 12, 12, 32)        0         \n",
      "_________________________________________________________________\n",
      "conv2d_5 (Conv2D)            (None, 12, 12, 64)        18496     \n",
      "_________________________________________________________________\n",
      "conv2d_6 (Conv2D)            (None, 12, 12, 64)        36928     \n",
      "_________________________________________________________________\n",
      "max_pooling2d_3 (MaxPooling2 (None, 6, 6, 64)          0         \n",
      "_________________________________________________________________\n",
      "dropout_1 (Dropout)          (None, 6, 6, 64)          0         \n",
      "_________________________________________________________________\n",
      "flatten_1 (Flatten)          (None, 2304)              0         \n",
      "_________________________________________________________________\n",
      "dense_1 (Dense)              (None, 128)               295040    \n",
      "_________________________________________________________________\n",
      "dropout_2 (Dropout)          (None, 128)               0         \n",
      "_________________________________________________________________\n",
      "dense_2 (Dense)              (None, 5)                 645       \n",
      "=================================================================\n",
      "Total params: 367,477\n",
      "Trainable params: 367,477\n",
      "Non-trainable params: 0\n",
      "_________________________________________________________________\n"
     ]
    }
   ],
   "source": [
    "#make model\n",
    "model=Sequential()\n",
    "model.add(Conv2D(filters=16,kernel_size=(3,3),padding=\"same\",activation=\"relu\",input_shape=(48, 48, 1)))\n",
    "model.add(Conv2D(filters=16,kernel_size=(3,3),padding=\"same\",activation=\"relu\"))\n",
    "model.add(MaxPooling2D(pool_size=2))\n",
    "model.add(Conv2D(filters=32,kernel_size=(3,3),padding=\"same\",activation=\"relu\"))\n",
    "model.add(Conv2D(filters=32,kernel_size=(3,3),padding=\"same\",activation=\"relu\"))\n",
    "model.add(MaxPooling2D(pool_size=2))\n",
    "model.add(Conv2D(filters=64,kernel_size=(3,3),padding=\"same\",activation=\"relu\"))\n",
    "model.add(Conv2D(filters=64,kernel_size=(3,3),padding=\"same\",activation=\"relu\"))\n",
    "model.add(MaxPooling2D(pool_size=2))\n",
    "model.add(Dropout(0.2))\n",
    "model.add(Flatten())\n",
    "model.add(Dense(128,activation=\"relu\"))\n",
    "model.add(Dropout(0.5))\n",
    "model.add(Dense(5,activation=\"softmax\"))\n",
    "model.summary()"
   ]
  },
  {
   "cell_type": "code",
   "execution_count": 14,
   "metadata": {},
   "outputs": [],
   "source": [
    "earlystop = EarlyStopping(monitor='val_loss',\n",
    "                          mode='min',\n",
    "                          verbose=1,\n",
    "                          )\n",
    "\n",
    "checkpoint = ModelCheckpoint('emotionModel.h5',\n",
    "                             monitor='val_loss',\n",
    "                             mode='min',\n",
    "                             save_best_only=True,\n",
    "                             verbose=1)\n",
    "# compile the model\n",
    "model.compile(loss='categorical_crossentropy', optimizer='adam', \n",
    "                  metrics=['accuracy'])"
   ]
  },
  {
   "cell_type": "code",
   "execution_count": 15,
   "metadata": {},
   "outputs": [
    {
     "name": "stdout",
     "output_type": "stream",
     "text": [
      "Train on 12143 samples, validate on 5205 samples\n",
      "Epoch 1/8\n",
      "12143/12143 [==============================] - 28s 2ms/step - loss: 1.5937 - accuracy: 0.2345 - val_loss: 1.5810 - val_accuracy: 0.2565\n",
      "\n",
      "Epoch 00001: val_loss improved from inf to 1.58101, saving model to emotionModel.h5\n",
      "Epoch 2/8\n",
      "12143/12143 [==============================] - 27s 2ms/step - loss: 1.5493 - accuracy: 0.2842 - val_loss: 1.4511 - val_accuracy: 0.3554\n",
      "\n",
      "Epoch 00002: val_loss improved from 1.58101 to 1.45112, saving model to emotionModel.h5\n",
      "Epoch 3/8\n",
      "12143/12143 [==============================] - 27s 2ms/step - loss: 1.4188 - accuracy: 0.3767 - val_loss: 1.3072 - val_accuracy: 0.4611\n",
      "\n",
      "Epoch 00003: val_loss improved from 1.45112 to 1.30724, saving model to emotionModel.h5\n",
      "Epoch 4/8\n",
      "12143/12143 [==============================] - 27s 2ms/step - loss: 1.2778 - accuracy: 0.4699 - val_loss: 1.1868 - val_accuracy: 0.5120\n",
      "\n",
      "Epoch 00004: val_loss improved from 1.30724 to 1.18682, saving model to emotionModel.h5\n",
      "Epoch 5/8\n",
      "12143/12143 [==============================] - 28s 2ms/step - loss: 1.1752 - accuracy: 0.5257 - val_loss: 1.1110 - val_accuracy: 0.5550\n",
      "\n",
      "Epoch 00005: val_loss improved from 1.18682 to 1.11099, saving model to emotionModel.h5\n",
      "Epoch 6/8\n",
      "12143/12143 [==============================] - 29s 2ms/step - loss: 1.1042 - accuracy: 0.5573 - val_loss: 1.0514 - val_accuracy: 0.5702\n",
      "\n",
      "Epoch 00006: val_loss improved from 1.11099 to 1.05143, saving model to emotionModel.h5\n",
      "Epoch 7/8\n",
      "12143/12143 [==============================] - 28s 2ms/step - loss: 1.0450 - accuracy: 0.5821 - val_loss: 1.0282 - val_accuracy: 0.5810\n",
      "\n",
      "Epoch 00007: val_loss improved from 1.05143 to 1.02820, saving model to emotionModel.h5\n",
      "Epoch 8/8\n",
      "12143/12143 [==============================] - 28s 2ms/step - loss: 0.9969 - accuracy: 0.6050 - val_loss: 1.0369 - val_accuracy: 0.5831\n",
      "\n",
      "Epoch 00008: val_loss did not improve from 1.02820\n",
      "Epoch 00008: early stopping\n"
     ]
    }
   ],
   "source": [
    "history = model.fit(x_train,y_train,batch_size=batch_size,epochs=epochs, verbose=1, validation_split=0.3, callbacks=[earlystop, checkpoint])"
   ]
  },
  {
   "cell_type": "code",
   "execution_count": 16,
   "metadata": {},
   "outputs": [
    {
     "data": {
      "image/png": "[encoded data removed]",
      "text/plain": [
       "<Figure size 432x288 with 1 Axes>"
      ]
     },
     "metadata": {
      "needs_background": "light"
     },
     "output_type": "display_data"
    }
   ],
   "source": [
    "import matplotlib.pyplot as plt\n",
    "\n",
    "plt.plot(history.history['loss'])\n",
    "plt.plot(history.history['val_loss'])\n",
    "plt.title('Model Loss')\n",
    "plt.ylabel('Loss')\n",
    "plt.xlabel('Epoch')\n",
    "plt.legend(['Train', 'Test'], loc='upper left')\n",
    "plt.show()"
   ]
  }
 ],
 "metadata": {
  "kernelspec": {
   "display_name": "Python 3",
   "language": "python",
   "name": "python3"
  },
  "language_info": {
   "codemirror_mode": {
    "name": "ipython",
    "version": 3
   },
   "file_extension": ".py",
   "mimetype": "text/x-python",
   "name": "python",
   "nbconvert_exporter": "python",
   "pygments_lexer": "ipython3",
   "version": "3.7.7"
  }
 },
 "nbformat": 4,
 "nbformat_minor": 4
}
